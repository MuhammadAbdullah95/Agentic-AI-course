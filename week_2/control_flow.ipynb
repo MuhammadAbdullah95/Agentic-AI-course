{
  "nbformat": 4,
  "nbformat_minor": 0,
  "metadata": {
    "colab": {
      "provenance": [],
      "authorship_tag": "ABX9TyPTcjXq1QCOeED/YWAukEmh",
      "include_colab_link": true
    },
    "kernelspec": {
      "name": "python3",
      "display_name": "Python 3"
    },
    "language_info": {
      "name": "python"
    }
  },
  "cells": [
    {
      "cell_type": "markdown",
      "metadata": {
        "id": "view-in-github",
        "colab_type": "text"
      },
      "source": [
        "<a href=\"https://colab.research.google.com/github/MuhammadAbdullah95/Agentic-AI-course/blob/master/week_2/control_flow.ipynb\" target=\"_parent\"><img src=\"https://colab.research.google.com/assets/colab-badge.svg\" alt=\"Open In Colab\"/></a>"
      ]
    },
    {
      "cell_type": "markdown",
      "source": [
        "# 🧠 Python Control Flow: if / elif / else\n",
        "\n",
        "Welcome to this notebook on **control flow in Python**, designed for beginners!\n",
        "\n",
        "Control flow allows us to make decisions in our code using **`if`**, **`elif`**, and **`else`**.\n",
        "\n",
        "We'll learn with real-world examples and simple explanations.\n",
        "\n",
        "## ✅ Basic `if` Statement\n",
        "\n",
        "The `if` statement runs a block of code **only if** a condition is `True`.\n",
        "\n",
        "**Syntax**:\n",
        "```python\n",
        "if condition:\n",
        "    # Code to run if condition is true\n",
        "```\n"
      ],
      "metadata": {
        "id": "zmy8gGcXb7hc"
      }
    },
    {
      "cell_type": "code",
      "source": [
        "# Example\n",
        "temperature = 30\n",
        "\n",
        "if temperature > 25:\n",
        "    print(\"It's a hot day!\")"
      ],
      "metadata": {
        "id": "eeRHtLnVcQqt"
      },
      "execution_count": null,
      "outputs": []
    },
    {
      "cell_type": "markdown",
      "source": [
        "## 🔁 `if` / `else`\n",
        "\n",
        "Use `else` to run code when the condition is `False`.\n",
        "\n",
        "**Syntax**:\n",
        "```python\n",
        "if condition:\n",
        "    # True block\n",
        "else:\n",
        "    # False block\n",
        "```\n"
      ],
      "metadata": {
        "id": "Jt1QC-HkcR6M"
      }
    },
    {
      "cell_type": "code",
      "source": [
        "# Example\n",
        "temperature = 15\n",
        "\n",
        "if temperature > 25:\n",
        "    print(\"It's a hot day!\")\n",
        "else:\n",
        "    print(\"It's not too hot.\")"
      ],
      "metadata": {
        "id": "6UOL_dotcWZp"
      },
      "execution_count": null,
      "outputs": []
    },
    {
      "cell_type": "markdown",
      "source": [
        "## 🔄 `if` / `elif` / `else`\n",
        "\n",
        "Use `elif` (short for \"else if\") to check multiple conditions.\n",
        "\n",
        "**Syntax**:\n",
        "```python\n",
        "if condition1:\n",
        "    # Code if condition1 is True\n",
        "elif condition2:\n",
        "    # Code if condition2 is True\n",
        "else:\n",
        "    # Code if none are True\n",
        "```\n"
      ],
      "metadata": {
        "id": "6oqaNxWtcbHQ"
      }
    },
    {
      "cell_type": "code",
      "source": [
        "# Example\n",
        "temperature = 20\n",
        "\n",
        "if temperature > 30:\n",
        "    print(\"It's very hot.\")\n",
        "elif temperature > 20:\n",
        "    print(\"It's warm.\")\n",
        "else:\n",
        "    print(\"It's cold.\")"
      ],
      "metadata": {
        "id": "BMvlzSoccgz9"
      },
      "execution_count": null,
      "outputs": []
    },
    {
      "cell_type": "markdown",
      "source": [
        "## 🛒 Real-World Example: Shopping Discount\n",
        "\n",
        "Let's say we want to apply a discount based on how much a customer spends:\n",
        "- Spend more than $100 → 20% discount\n",
        "- Spend more than $50 → 10% discount\n",
        "- Otherwise → no discount\n"
      ],
      "metadata": {
        "id": "S5Zdfl_lcqAH"
      }
    },
    {
      "cell_type": "code",
      "source": [
        "# Example\n",
        "total_bill = 120\n",
        "\n",
        "if total_bill > 100:\n",
        "    print(\"You get a 20% discount!\")\n",
        "elif total_bill > 50:\n",
        "    print(\"You get a 10% discount!\")\n",
        "else:\n",
        "    print(\"No discount available.\")"
      ],
      "metadata": {
        "id": "Q7_gKozAcyOb"
      },
      "execution_count": null,
      "outputs": []
    },
    {
      "cell_type": "markdown",
      "source": [
        "# Grade Evaluator with `if` `else`"
      ],
      "metadata": {
        "id": "CWZmeD1_gVdP"
      }
    },
    {
      "cell_type": "code",
      "source": [
        "# Ask for marks from the user\n",
        "math = int(input(\"Enter Math marks: \"))\n",
        "english = int(input(\"Enter English marks: \"))\n",
        "science = int(input(\"Enter Science marks: \"))\n",
        "\n",
        "# Calculate total and percentage\n",
        "total = math + english + science\n",
        "percentage = (total / 300) * 100\n",
        "\n",
        "# Decide the grade using if-else only (no elif)\n",
        "if percentage >= 90:\n",
        "    grade = \"A\"\n",
        "else:\n",
        "    if percentage >= 80:\n",
        "        grade = \"B\"\n",
        "    else:\n",
        "        if percentage >= 70:\n",
        "            grade = \"C\"\n",
        "        else:\n",
        "            if percentage >= 60:\n",
        "                grade = \"D\"\n",
        "            else:\n",
        "                grade = \"F\"\n",
        "\n",
        "# Check if the student passed all subjects\n",
        "if math >= 40 and english >= 40 and science >= 40:\n",
        "    result = \"You passed!\"\n",
        "else:\n",
        "    result = \"You failed.\"\n",
        "\n",
        "# Print the report card\n",
        "print(\"\\n--- Report Card ---\")\n",
        "print(\"Total Marks:\", total)\n",
        "print(\"Percentage:\", percentage)\n",
        "print(\"Grade:\", grade)\n",
        "print(\"Result:\", result)"
      ],
      "metadata": {
        "id": "HTirwNWBgd0_"
      },
      "execution_count": null,
      "outputs": []
    },
    {
      "cell_type": "markdown",
      "source": [
        "# Grade Evaluator with `if` `elif` `else`"
      ],
      "metadata": {
        "id": "h-ENGogSgCLH"
      }
    },
    {
      "cell_type": "code",
      "source": [
        "#if elif else\n",
        "\n",
        "# Ask for marks from the user\n",
        "math = int(input(\"Enter Math marks: \"))\n",
        "english = int(input(\"Enter English marks: \"))\n",
        "science = int(input(\"Enter Science marks: \"))\n",
        "\n",
        "# Calculate total and percentage\n",
        "total = math + english + science\n",
        "percentage = (total / 300) * 100\n",
        "\n",
        "# Decide the grade using if-else only (no elif)\n",
        "if percentage >= 90:\n",
        "    grade = \"A\"\n",
        "elif percentage >= 80:\n",
        "  grade = \"B\"\n",
        "elif percentage >= 70:\n",
        "  grade = \"C\"\n",
        "elif percentage >= 60:\n",
        "  grade = \"D\"\n",
        "else:\n",
        "  grade = \"F\"\n",
        "\n",
        "\n",
        "# Check if the student passed all subjects\n",
        "if math >= 40 and english >= 40 and science >= 40:\n",
        "    result = \"You passed!\"\n",
        "else:\n",
        "    result = \"You failed.\"\n",
        "\n",
        "# Print the report card\n",
        "print(\"\\n--- Report Card ---\")\n",
        "print(\"Total Marks:\", total)\n",
        "print(\"Percentage:\", percentage)\n",
        "print(\"Grade:\", grade)\n",
        "print(\"Result:\", result)"
      ],
      "metadata": {
        "id": "QFPsj6x1gFdM"
      },
      "execution_count": null,
      "outputs": []
    },
    {
      "cell_type": "markdown",
      "source": [
        "# Calculator\n"
      ],
      "metadata": {
        "id": "CgW5kiJmf0um"
      }
    },
    {
      "cell_type": "code",
      "source": [
        "number_1 = float(input(\"Enter a number: \"))\n",
        "\n",
        "number_2 = float(input(\"Enter a second number: \"))\n",
        "\n",
        "operator = input(\"Enter a operator: + or * or / or - or %\")\n",
        "answer = \"Invalid Operator\"\n",
        "\n",
        "\n",
        "if operator == \"*\":\n",
        "  answer = number_1 * number_2\n",
        "  print(answer)\n",
        "elif operator == \"+\":\n",
        "  answer = number_1 + number_2\n",
        "  print(answer)\n",
        "elif operator == \"-\":\n",
        "  answer = number_1 - number_2\n",
        "  print(answer)\n",
        "elif operator == '/':\n",
        "  answer = number_1 / number_2\n",
        "  print(answer)\n",
        "elif operator == \"%\":\n",
        "  answer = number_1 % number_2\n",
        "  print(answer)\n",
        "else:\n",
        "  print(\"Invalid Operator\")\n"
      ],
      "metadata": {
        "id": "H1Syplfff5s_"
      },
      "execution_count": null,
      "outputs": []
    },
    {
      "cell_type": "markdown",
      "source": [
        "#Problem: Leap Year and Date Validator\n",
        "Given a year, month, and day:\n",
        "\n",
        "- Check if the year is a leap year (divisible by 4, but not by 100, unless also divisible by 400)\n",
        "- Validate if the date is possible (considering leap years for February)\n",
        "- Determine the season based on the month\n",
        "- Check if it's a weekend (assume you're given day of week as well)"
      ],
      "metadata": {
        "id": "UGfzKaLtB-v0"
      }
    },
    {
      "cell_type": "code",
      "execution_count": null,
      "metadata": {
        "id": "cvyFjug91HTU",
        "colab": {
          "base_uri": "https://localhost:8080/"
        },
        "outputId": "fd6f17c5-8c31-4c0e-a815-2537096e29ed"
      },
      "outputs": [
        {
          "output_type": "stream",
          "name": "stdout",
          "text": [
            "Ënter the Month: 2\n",
            "Enter day: 29\n",
            "Enter Year: 2000\n",
            "Enter Day of week: saturday\n",
            "It is a leap year\n",
            "It is not valid because you entered a leap year\n",
            "It is a Summer Season\n",
            "It is a weekend\n"
          ]
        }
      ],
      "source": [
        "month = int(input(\"Ënter the Month: \"))\n",
        "date = int(input(\"Enter day: \"))\n",
        "year = int(input(\"Enter Year: \"))\n",
        "day_of_week = input(\"Enter Day of week: \")\n",
        "\n",
        "day_of_week = day_of_week.lower()\n",
        "\n",
        "if (year % 4 == 0 and year % 100 != 0) or year % 400 == 0:\n",
        "  print(\"It is a leap year\")\n",
        "  if date == 29 and month == 2:\n",
        "    print(\"It is not valid because you entered a leap year\")\n",
        "  else:\n",
        "    print(\"Day is Valid because month is \", month)\n",
        "if month == 1 or month == 2 or month == 3 or month == 4 or month == 5 or month == 6:\n",
        "  print(\"It is a Summer Season\")\n",
        "else:\n",
        "  print(\"It is a Winter Season\")\n",
        "\n",
        "if day_of_week == \"saturday\" or day_of_week == \"sunday\":\n",
        "  print(\"It is a weekend\")\n",
        "else:\n",
        "  print(\"It is not a weekend go to you work (Good Boy)\")"
      ]
    }
  ]
}