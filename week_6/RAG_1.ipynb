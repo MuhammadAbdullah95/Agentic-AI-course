{
 "cells": [
  {
   "cell_type": "markdown",
   "id": "0b77b21b",
   "metadata": {},
   "source": [
    "# Retrieval-Augmented Generation (RAG)\n",
    "\n",
    "Retrieval-Augmented Generation (RAG) is an approach that combines the strengths of information retrieval systems and large language models (LLMs) to provide more accurate and contextually relevant responses.\n",
    "\n",
    "**How RAG Works:**\n",
    "1. **User Prompt:** The user asks a question or provides a prompt.\n",
    "2. **Retrieval (R):** The RAG system searches a knowledge base or external documents to retrieve relevant information related to the prompt.\n",
    "3. **Augmentation (A):** The retrieved information is combined with the original prompt to create an augmented prompt.\n",
    "4. **Generation (G):** The augmented prompt is passed to a language model (LLM), which generates a response using both the user’s question and the retrieved context.\n",
    "\n",
    "This process ensures that the LLM has access to up-to-date and specific information, leading to more informed and accurate answers.\n",
    "\n",
    "---\n",
    "\n",
    "**Example Illustrated in the Diagram:**  \n",
    "![Simple RAG Architecture](RAG.png)\n",
    "\n",
    "- **User Prompt:** \"Why are hotels in Vancouver super expensive this weekend?\"\n",
    "- **RAG System:** Retrieves relevant information (e.g., a major event like a Taylor Swift concert).\n",
    "- **Augmented Prompt:** Combines the user’s question with the retrieved event details.\n",
    "- **LLM Response:** Provides an answer that explains the price surge due to the event.\n",
    "\n",
    "By leveraging retrieval and generation together, RAG systems can overcome the limitations of LLMs that rely solely on pre-trained knowledge, making them more powerful and adaptable for real-world applications."
   ]
  },
  {
   "cell_type": "code",
   "execution_count": 1,
   "id": "53f636f6",
   "metadata": {},
   "outputs": [],
   "source": [
    "# Importing Libraries\n",
    "import os\n",
    "from dotenv import load_dotenv\n",
    "# Library For Using Gemini Models\n",
    "from google import genai"
   ]
  },
  {
   "cell_type": "code",
   "execution_count": 2,
   "id": "b1779b98",
   "metadata": {},
   "outputs": [],
   "source": [
    "# Loading API Key from .env file\n",
    "\n",
    "load_dotenv(override=True)\n",
    "GEMINI_API_KEY = os.getenv(\"GOOGLE_API_KEY\")"
   ]
  },
  {
   "cell_type": "markdown",
   "id": "252d80ae",
   "metadata": {},
   "source": [
    "The following code demonstrates how to use the Gemini API to interact with Google's generative AI models. It initializes a client using an API key stored in the environment variable `GEMINI_API_KEY`. The client then sends a prompt to the \"gemini-2.5-flash\" model, asking for information about \"A squares Skills Academy\". The response from the model is printed to the console.\n"
   ]
  },
  {
   "cell_type": "code",
   "execution_count": 9,
   "id": "09ffe520",
   "metadata": {},
   "outputs": [
    {
     "name": "stdout",
     "output_type": "stream",
     "text": [
      "\"A Squares Skills Academy\" most commonly refers to a **training and skill development institute** based predominantly in **India**.\n",
      "\n",
      "Here's what I generally know about it:\n",
      "\n",
      "1.  **Core Focus:** It's primarily focused on providing training in various **information technology (IT) and professional skills**. Their aim is to bridge the gap between academic knowledge and industry requirements, making individuals more employable.\n",
      "\n",
      "2.  **Key Offerings (Courses/Programs):** They typically offer a wide range of courses, which can include:\n",
      "    *   **Programming Languages:** Python, Java, C#, .NET, etc.\n",
      "    *   **Web Development:** Front-end (React, Angular, Vue), Back-end (Node.js, Django, Spring Boot), Full Stack Development.\n",
      "    *   **Data Science & Analytics:** Machine Learning, AI, Big Data.\n",
      "    *   **Digital Marketing:** SEO, SEM, Social Media Marketing, Content Marketing.\n",
      "    *   **Cloud Technologies:** AWS, Azure, Google Cloud.\n",
      "    *   **Database Management:** SQL, NoSQL.\n",
      "    *   **Project Management:** PMP, Agile.\n",
      "    *   **Soft Skills & Communication:** Often integrated into their programs to enhance overall professional readiness.\n",
      "\n",
      "3.  **Target Audience:**\n",
      "    *   **Students:** Engineering graduates, BCA/MCA students looking for their first job.\n",
      "    *   **Freshers:** Individuals who have recently graduated and are seeking to gain specific industry skills.\n",
      "    *   **Working Professionals:** Those looking to upskill, reskill, or change careers.\n",
      "\n",
      "4.  **Key Features & Approach:**\n",
      "    *   **Industry-Relevant Curriculum:** Designed to match current industry demands.\n",
      "    *   **Hands-on Training:** Emphasis on practical application and real-world projects.\n",
      "    *   **Experienced Trainers:** Instructors with industry experience.\n",
      "    *   **Placement Assistance:** Many such academies offer job placement support, career counseling, and mock interviews to help students secure employment.\n",
      "    *   **Certifications:** Providing certificates upon completion of courses.\n",
      "\n",
      "5.  **Locations:** While the exact number of branches can vary, they often have a presence in major Indian cities known for their IT sectors, such as Chennai, Bangalore, Hyderabad, etc.\n",
      "\n",
      "It's important to note that while \"A Squares Skills Academy\" generally points to this type of IT/professional training institute, there could theoretically be other smaller, local academies with similar names focused on different skills (e.g., sports, arts). However, the tech-focused one is the most prominent.\n",
      "\n",
      "If you have a specific location or program in mind, I might be able to provide more targeted information!\n"
     ]
    }
   ],
   "source": [
    "# The client gets the API key from the environment variable `GEMINI_API_KEY`.\n",
    "client = genai.Client(api_key=GEMINI_API_KEY)\n",
    "\n",
    "response = client.models.generate_content(\n",
    "    model=\"gemini-2.5-flash\", contents=\"What do you know about A squares Skills Academy?\"\n",
    ")\n",
    "print(response.text)"
   ]
  },
  {
   "cell_type": "markdown",
   "id": "3d36eb57",
   "metadata": {},
   "source": [
    "# Prompt Augmentation in Retrieval-Augmented Generation (RAG)\n",
    "\n",
    "This code demonstrates the concept of **prompt augmentation** within a Retrieval-Augmented Generation (RAG) workflow.  \n",
    "\n",
    "The main idea is to **combine the user’s question with relevant retrieved context** before sending it to a language model (LLM). This ensures the model’s response is more accurate and context-aware.  \n",
    "\n",
    "---\n",
    "\n",
    "## How It Works in the Code\n",
    "\n",
    "1. The **user’s query** (question) is captured.  \n",
    "2. Relevant context about **A Squares Skills Academy** is retrieved and stored in `academy_info`.  \n",
    "3. Both the query and the retrieved context are combined into a single **augmented prompt**.  \n",
    "4. This augmented prompt is then passed to the **Gemini model (LLM)**, which generates a response using both the **question** and the **context**.  \n",
    "\n",
    "In this implementation:\n",
    "- `academy_info` → the retrieved context  \n",
    "- `prompt` → the final augmented prompt (user query + context)  \n",
    "\n",
    "---\n",
    "\n",
    "## Visual Representation (RAG.png)\n",
    "\n",
    "The following diagram illustrates the same process:\n",
    "\n",
    "1. **User provides a question**  \n",
    "2. **RAG retrieves relevant information** (e.g., academy details, events)  \n",
    "3. **Retrieved info + user query = augmented prompt**  \n",
    "4. **LLM generates response** using both  \n",
    "\n",
    "---\n",
    "\n",
    "✅ By enriching the prompt with retrieved knowledge, the LLM avoids relying solely on its pre-trained memory and instead produces **more relevant, up-to-date, and reliable answers**.\n"
   ]
  },
  {
   "cell_type": "code",
   "execution_count": 10,
   "id": "21d65def",
   "metadata": {},
   "outputs": [],
   "source": [
    "academy_info = \"\"\"\n",
    "A squares Skills Academy is an educational institution that offers a variety of courses and training programs aimed at enhancing skills and knowledge in different fields. The academy focuses on providing practical and industry-relevant education to help students and professionals advance their careers. They may offer courses in areas such as Web development,Agentic AI, Digital marketing, Fundamentals of AI, Data Science and more, often incorporating hands-on learning experiences and expert instruction.\n",
    "# Courses Offering:\n",
    " * Agentic AI\n",
    " * Web Development\n",
    " * Data Science\n",
    " * Digital Marketing\n",
    " * Fundamentals of AI\n",
    " * DevOps\n",
    " * Flutter\n",
    "Location: Fateh Sher Road, Old Civil Line, Near New Chineede Reataurant.\n",
    "Contact: +92 300 0190220\n",
    "Website: https://asquareskills.academy/\n",
    "\"\"\""
   ]
  },
  {
   "cell_type": "code",
   "execution_count": 11,
   "id": "34a5ffc2",
   "metadata": {},
   "outputs": [
    {
     "name": "stdout",
     "output_type": "stream",
     "text": [
      "Based on the information provided, here's what we know about A squares Skills Academy:\n",
      "\n",
      "*   **Nature:** It is an educational institution.\n",
      "*   **Mission/Focus:** It offers a variety of courses and training programs aimed at enhancing skills and knowledge. The academy focuses on providing practical and industry-relevant education to help students and professionals advance their careers.\n",
      "*   **Teaching Approach:** They often incorporate hands-on learning experiences and expert instruction.\n",
      "*   **Course Offerings:**\n",
      "    *   Agentic AI\n",
      "    *   Web Development\n",
      "    *   Data Science\n",
      "    *   Digital Marketing\n",
      "    *   Fundamentals of AI\n",
      "    *   DevOps\n",
      "    *   Flutter\n",
      "*   **Location:** Fateh Sher Road, Old Civil Line, Near New Chineede Restaurant.\n",
      "*   **Contact:** +92 300 0190220\n",
      "*   **Website:** https://asquareskills.academy/\n"
     ]
    }
   ],
   "source": [
    "query = input(\"Ask a question about A squares Skills Academy: \")\n",
    "prompt = f\"\"\"\n",
    "Based on the following information about A squares Skills Academy, answer the question below.\n",
    "{academy_info}\n",
    "Question:\n",
    "{query}\n",
    "\"\"\"\n",
    "\n",
    "# The client gets the API key from the environment variable `GEMINI_API_KEY`.\n",
    "client = genai.Client(api_key=GEMINI_API_KEY)\n",
    "\n",
    "response = client.models.generate_content(\n",
    "    model=\"gemini-2.5-flash\", contents=prompt\n",
    ")\n",
    "print(response.text)"
   ]
  },
  {
   "cell_type": "code",
   "execution_count": null,
   "id": "20d9e2a1",
   "metadata": {},
   "outputs": [],
   "source": []
  }
 ],
 "metadata": {
  "kernelspec": {
   "display_name": "agentic-ai-course",
   "language": "python",
   "name": "python3"
  },
  "language_info": {
   "codemirror_mode": {
    "name": "ipython",
    "version": 3
   },
   "file_extension": ".py",
   "mimetype": "text/x-python",
   "name": "python",
   "nbconvert_exporter": "python",
   "pygments_lexer": "ipython3",
   "version": "3.11.13"
  }
 },
 "nbformat": 4,
 "nbformat_minor": 5
}
