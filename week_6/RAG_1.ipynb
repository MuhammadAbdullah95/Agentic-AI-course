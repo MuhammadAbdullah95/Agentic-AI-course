{
 "cells": [
  {
   "cell_type": "code",
   "execution_count": 1,
   "id": "53f636f6",
   "metadata": {},
   "outputs": [],
   "source": [
    "import os\n",
    "from dotenv import load_dotenv\n",
    "from google import genai"
   ]
  },
  {
   "cell_type": "code",
   "execution_count": 2,
   "id": "b1779b98",
   "metadata": {},
   "outputs": [],
   "source": [
    "load_dotenv(override=True)\n",
    "GEMINI_API_KEY = os.getenv(\"GOOGLE_API_KEY\")\n"
   ]
  },
  {
   "cell_type": "code",
   "execution_count": 17,
   "id": "09ffe520",
   "metadata": {},
   "outputs": [
    {
     "name": "stdout",
     "output_type": "stream",
     "text": [
      "Based on the information available, **A Squares Skills Academy** appears to be a **training institute located in Nagercoil, Kanyakumari, Tamil Nadu, India.**\n",
      "\n",
      "Here's what I generally know about them:\n",
      "\n",
      "*   **Focus:** They are dedicated to providing skill development and vocational training.\n",
      "*   **Courses Offered:** Their offerings typically include a range of courses aimed at enhancing employability and practical skills, such as:\n",
      "    *   **Computer Skills:** Tally, Advanced Excel, DTP (Desktop Publishing), Computer Fundamentals.\n",
      "    *   **Digital Marketing**\n",
      "    *   **English Communication/Spoken English**\n",
      "*   **Target Audience:** They likely cater to students, job seekers, and professionals looking to upgrade their skills for career advancement or to gain new job-oriented competencies.\n",
      "*   **Objective:** To equip individuals with practical, industry-relevant skills that make them more competitive in the job market.\n",
      "*   **Establishment:** Some sources indicate they were established around 2018.\n",
      "\n",
      "You can often find more details about their specific course modules, fees, admission process, and contact information through business directories like Justdial or IndiaMART, or their own social media profiles (e.g., LinkedIn) if they maintain them.\n"
     ]
    }
   ],
   "source": [
    "# The client gets the API key from the environment variable `GEMINI_API_KEY`.\n",
    "client = genai.Client(api_key=GEMINI_API_KEY)\n",
    "\n",
    "response = client.models.generate_content(\n",
    "    model=\"gemini-2.5-flash\", contents=\"What do you know about A squares Skills Academy?\"\n",
    ")\n",
    "print(response.text)"
   ]
  },
  {
   "cell_type": "code",
   "execution_count": 4,
   "id": "21d65def",
   "metadata": {},
   "outputs": [],
   "source": [
    "academy_info = \"\"\"\n",
    "A squares Skills Academy is an educational institution that offers a variety of courses and training programs aimed at enhancing skills and knowledge in different fields. The academy focuses on providing practical and industry-relevant education to help students and professionals advance their careers. They may offer courses in areas such as Web development,Agentic AI, Digital marketing, Fundamentals of AI, Data Science and more, often incorporating hands-on learning experiences and expert instruction.\n",
    "Location: Fateh Sher Road, Old Civil Line, Near New Chineede Reataurant.\n",
    "Contact: +92 300 1234567\n",
    "Website: www.asquareskillsacademy.com\n",
    "\"\"\""
   ]
  },
  {
   "cell_type": "code",
   "execution_count": 10,
   "id": "34a5ffc2",
   "metadata": {},
   "outputs": [
    {
     "name": "stdout",
     "output_type": "stream",
     "text": [
      "The website of the academy is: **www.asquareskillsacademy.com**\n"
     ]
    }
   ],
   "source": [
    "query = input(\"Ask a question about A squares Skills Academy: \")\n",
    "prompt = f\"\"\"\n",
    "Based on the following information about A squares Skills Academy, answer the question below.\n",
    "{academy_info}\n",
    "Question:\n",
    "{query}\n",
    "\"\"\"\n",
    "\n",
    "# The client gets the API key from the environment variable `GEMINI_API_KEY`.\n",
    "client = genai.Client(api_key=GEMINI_API_KEY)\n",
    "\n",
    "response = client.models.generate_content(\n",
    "    model=\"gemini-2.5-flash\", contents=prompt\n",
    ")\n",
    "print(response.text)"
   ]
  },
  {
   "cell_type": "code",
   "execution_count": null,
   "id": "b668e14e",
   "metadata": {},
   "outputs": [
    {
     "name": "stdout",
     "output_type": "stream",
     "text": [
      "A squares Skills Academy is an educational institution that offers a variety of practical and industry-relevant courses and training programs. Its primary aim is to enhance skills and knowledge in different fields to help students and professionals advance their careers.\n",
      "\n",
      "Key information about the academy includes:\n",
      "\n",
      "*   **Offerings:** Courses in areas such as Web development, Agentic AI, Digital marketing, Fundamentals of AI, Data Science, and more.\n",
      "*   **Methodology:** They often incorporate hands-on learning experiences and expert instruction.\n",
      "*   **Location:** Fateh Sher Road, Old Civil Line, Near New Chineede Reataurant.\n",
      "*   **Contact:** +92 300 1234567\n",
      "*   **Website:** www.asquareskillsacademy.com\n"
     ]
    }
   ],
   "source": [
    "https://file+.vscode-resource.vscode-cdn.net/g%3A/RAG_PRACTICE/www.asquareskillsacademy.com**# The client gets the API key from the environment variable `GEMINI_API_KEY`.\n",
    "client = genai.Client(api_key=GEMINI_API_KEY)\n",
    "\n",
    "response = client.models.generate_content(\n",
    "    model=\"gemini-2.5-flash\", contents=prompt\n",
    ")\n",
    "print(response.text)"
   ]
  },
  {
   "cell_type": "code",
   "execution_count": null,
   "id": "57929cb7",
   "metadata": {},
   "outputs": [],
   "source": []
  }
 ],
 "metadata": {
  "kernelspec": {
   "display_name": "RAG_PRACTICE",
   "language": "python",
   "name": "python3"
  },
  "language_info": {
   "codemirror_mode": {
    "name": "ipython",
    "version": 3
   },
   "file_extension": ".py",
   "mimetype": "text/x-python",
   "name": "python",
   "nbconvert_exporter": "python",
   "pygments_lexer": "ipython3",
   "version": "3.12.11"
  }
 },
 "nbformat": 4,
 "nbformat_minor": 5
}
