{
 "cells": [
  {
   "cell_type": "markdown",
   "id": "0b77b21b",
   "metadata": {},
   "source": [
    "# Retrieval-Augmented Generation (RAG)\n",
    "\n",
    "Retrieval-Augmented Generation (RAG) is an approach that combines the strengths of information retrieval systems and large language models (LLMs) to provide more accurate and contextually relevant responses.\n",
    "\n",
    "**How RAG Works:**\n",
    "1. **User Prompt:** The user asks a question or provides a prompt.\n",
    "2. **Retrieval (R):** The RAG system searches a knowledge base or external documents to retrieve relevant information related to the prompt.\n",
    "3. **Augmentation (A):** The retrieved information is combined with the original prompt to create an augmented prompt.\n",
    "4. **Generation (G):** The augmented prompt is passed to a language model (LLM), which generates a response using both the user’s question and the retrieved context.\n",
    "\n",
    "This process ensures that the LLM has access to up-to-date and specific information, leading to more informed and accurate answers.\n",
    "\n",
    "---\n",
    "\n",
    "**Example Illustrated in the Diagram:**  \n",
    "![Simple RAG Architecture](RAG.png)\n",
    "\n",
    "- **User Prompt:** \"Why are hotels in Vancouver super expensive this weekend?\"\n",
    "- **RAG System:** Retrieves relevant information (e.g., a major event like a Taylor Swift concert).\n",
    "- **Augmented Prompt:** Combines the user’s question with the retrieved event details.\n",
    "- **LLM Response:** Provides an answer that explains the price surge due to the event.\n",
    "\n",
    "By leveraging retrieval and generation together, RAG systems can overcome the limitations of LLMs that rely solely on pre-trained knowledge, making them more powerful and adaptable for real-world applications."
   ]
  },
  {
   "cell_type": "code",
   "execution_count": null,
   "id": "53f636f6",
   "metadata": {},
   "outputs": [],
   "source": [
    "# Importing Libraries\n",
    "import os\n",
    "from dotenv import load_dotenv\n",
    "# Library For Using Gemini Models\n",
    "from google import genai"
   ]
  },
  {
   "cell_type": "code",
   "execution_count": null,
   "id": "b1779b98",
   "metadata": {},
   "outputs": [],
   "source": [
    "# Loading API Key from .env file\n",
    "\n",
    "load_dotenv(override=True)\n",
    "GEMINI_API_KEY = os.getenv(\"GOOGLE_API_KEY\")"
   ]
  },
  {
   "cell_type": "markdown",
   "id": "252d80ae",
   "metadata": {},
   "source": [
    "The following code demonstrates how to use the Gemini API to interact with Google's generative AI models. It initializes a client using an API key stored in the environment variable `GEMINI_API_KEY`. The client then sends a prompt to the \"gemini-2.5-flash\" model, asking for information about \"A squares Skills Academy\". The response from the model is printed to the console.\n"
   ]
  },
  {
   "cell_type": "code",
   "execution_count": 17,
   "id": "09ffe520",
   "metadata": {},
   "outputs": [
    {
     "name": "stdout",
     "output_type": "stream",
     "text": [
      "Based on the information available, **A Squares Skills Academy** appears to be a **training institute located in Nagercoil, Kanyakumari, Tamil Nadu, India.**\n",
      "\n",
      "Here's what I generally know about them:\n",
      "\n",
      "*   **Focus:** They are dedicated to providing skill development and vocational training.\n",
      "*   **Courses Offered:** Their offerings typically include a range of courses aimed at enhancing employability and practical skills, such as:\n",
      "    *   **Computer Skills:** Tally, Advanced Excel, DTP (Desktop Publishing), Computer Fundamentals.\n",
      "    *   **Digital Marketing**\n",
      "    *   **English Communication/Spoken English**\n",
      "*   **Target Audience:** They likely cater to students, job seekers, and professionals looking to upgrade their skills for career advancement or to gain new job-oriented competencies.\n",
      "*   **Objective:** To equip individuals with practical, industry-relevant skills that make them more competitive in the job market.\n",
      "*   **Establishment:** Some sources indicate they were established around 2018.\n",
      "\n",
      "You can often find more details about their specific course modules, fees, admission process, and contact information through business directories like Justdial or IndiaMART, or their own social media profiles (e.g., LinkedIn) if they maintain them.\n"
     ]
    }
   ],
   "source": [
    "# The client gets the API key from the environment variable `GEMINI_API_KEY`.\n",
    "client = genai.Client(api_key=GEMINI_API_KEY)\n",
    "\n",
    "response = client.models.generate_content(\n",
    "    model=\"gemini-2.5-flash\", contents=\"What do you know about A squares Skills Academy?\"\n",
    ")\n",
    "print(response.text)"
   ]
  },
  {
   "cell_type": "markdown",
   "id": "3d36eb57",
   "metadata": {},
   "source": [
    "# Prompt Augmentation in Retrieval-Augmented Generation (RAG)\n",
    "\n",
    "This code demonstrates the concept of **prompt augmentation** within a Retrieval-Augmented Generation (RAG) workflow.  \n",
    "\n",
    "The main idea is to **combine the user’s question with relevant retrieved context** before sending it to a language model (LLM). This ensures the model’s response is more accurate and context-aware.  \n",
    "\n",
    "---\n",
    "\n",
    "## How It Works in the Code\n",
    "\n",
    "1. The **user’s query** (question) is captured.  \n",
    "2. Relevant context about **A Squares Skills Academy** is retrieved and stored in `academy_info`.  \n",
    "3. Both the query and the retrieved context are combined into a single **augmented prompt**.  \n",
    "4. This augmented prompt is then passed to the **Gemini model (LLM)**, which generates a response using both the **question** and the **context**.  \n",
    "\n",
    "In this implementation:\n",
    "- `academy_info` → the retrieved context  \n",
    "- `prompt` → the final augmented prompt (user query + context)  \n",
    "\n",
    "---\n",
    "\n",
    "## Visual Representation (RAG.png)\n",
    "\n",
    "The following diagram illustrates the same process:\n",
    "\n",
    "1. **User provides a question**  \n",
    "2. **RAG retrieves relevant information** (e.g., academy details, events)  \n",
    "3. **Retrieved info + user query = augmented prompt**  \n",
    "4. **LLM generates response** using both  \n",
    "\n",
    "---\n",
    "\n",
    "✅ By enriching the prompt with retrieved knowledge, the LLM avoids relying solely on its pre-trained memory and instead produces **more relevant, up-to-date, and reliable answers**.\n"
   ]
  },
  {
   "cell_type": "code",
   "execution_count": null,
   "id": "21d65def",
   "metadata": {},
   "outputs": [],
   "source": [
    "academy_info = \"\"\"\n",
    "A squares Skills Academy is an educational institution that offers a variety of courses and training programs aimed at enhancing skills and knowledge in different fields. The academy focuses on providing practical and industry-relevant education to help students and professionals advance their careers. They may offer courses in areas such as Web development,Agentic AI, Digital marketing, Fundamentals of AI, Data Science and more, often incorporating hands-on learning experiences and expert instruction.\n",
    "Location: Fateh Sher Road, Old Civil Line, Near New Chineede Reataurant.\n",
    "Contact: +92 300 1234567\n",
    "Website: www.asskillsacademy.com\n",
    "\"\"\""
   ]
  },
  {
   "cell_type": "code",
   "execution_count": 10,
   "id": "34a5ffc2",
   "metadata": {},
   "outputs": [
    {
     "name": "stdout",
     "output_type": "stream",
     "text": [
      "The website of the academy is: **www.asquareskillsacademy.com**\n"
     ]
    }
   ],
   "source": [
    "query = input(\"Ask a question about A squares Skills Academy: \")\n",
    "prompt = f\"\"\"\n",
    "Based on the following information about A squares Skills Academy, answer the question below.\n",
    "{academy_info}\n",
    "Question:\n",
    "{query}\n",
    "\"\"\"\n",
    "\n",
    "# The client gets the API key from the environment variable `GEMINI_API_KEY`.\n",
    "client = genai.Client(api_key=GEMINI_API_KEY)\n",
    "\n",
    "response = client.models.generate_content(\n",
    "    model=\"gemini-2.5-flash\", contents=prompt\n",
    ")\n",
    "print(response.text)"
   ]
  }
 ],
 "metadata": {
  "kernelspec": {
   "display_name": "agentic-ai-course",
   "language": "python",
   "name": "python3"
  },
  "language_info": {
   "codemirror_mode": {
    "name": "ipython",
    "version": 3
   },
   "file_extension": ".py",
   "mimetype": "text/x-python",
   "name": "python",
   "nbconvert_exporter": "python",
   "pygments_lexer": "ipython3",
   "version": "3.11.13"
  }
 },
 "nbformat": 4,
 "nbformat_minor": 5
}
