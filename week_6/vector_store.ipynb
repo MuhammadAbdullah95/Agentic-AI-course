{
 "cells": [
  {
   "cell_type": "markdown",
   "id": "88e7ccb8",
   "metadata": {},
   "source": [
    "# Summary of the Jupyter Notebook\n",
    "\n",
    "This notebook demonstrates how to build a retrieval-augmented generation (RAG) pipeline using Google Gemini and ChromaDB.\n",
    "\n",
    "## Workflow Overview\n",
    "\n",
    "1. **Environment Setup**\n",
    "    - Loads environment variables and API keys.\n",
    "\n",
    "2. **Database Initialization**\n",
    "    - Initializes a persistent ChromaDB client.\n",
    "    - Creates a collection for storing documents.\n",
    "\n",
    "3. **Document Ingestion**\n",
    "    - Adds a set of technology-related articles to the ChromaDB collection.\n",
    "\n",
    "4. **Semantic Search**\n",
    "    - Performs semantic search on the collection using both text and embedding-based queries.\n",
    "\n",
    "5. **Embedding Generation**\n",
    "    - Generates document embeddings with Gemini's embedding model.\n",
    "    - Stores embeddings in a new ChromaDB collection.\n",
    "\n",
    "6. **Knowledge Base Querying**\n",
    "    - Queries the knowledge base using embedded queries to retrieve relevant documents.\n",
    "\n",
    "7. **Prompt Construction & LLM Inference**\n",
    "    - Constructs prompts from retrieved documents.\n",
    "    - Uses Gemini's LLM to generate answers based on the provided context.\n",
    "\n",
    "---\n",
    "\n",
    "This notebook showcases the integration of document storage, semantic search, and large language model inference for question answering."
   ]
  },
  {
   "cell_type": "code",
   "execution_count": null,
   "id": "936508c5",
   "metadata": {},
   "outputs": [],
   "source": [
    "import os\n",
    "from dotenv import load_dotenv\n",
    "from google import genai\n",
    "import chromadb"
   ]
  },
  {
   "cell_type": "code",
   "execution_count": 6,
   "id": "80574884",
   "metadata": {},
   "outputs": [],
   "source": [
    "load_dotenv(override=True)\n",
    "GEMINI_API_KEY = os.getenv(\"GOOGLE_API_KEY\")\n",
    "os.environ[\"GOOGLE_API_KEY\"] = GEMINI_API_KEY"
   ]
  },
  {
   "cell_type": "code",
   "execution_count": 7,
   "id": "77289d4c",
   "metadata": {},
   "outputs": [],
   "source": [
    "chroma_client = chromadb.PersistentClient(\"./chroma_db\")\n",
    "collection = chroma_client.get_or_create_collection(name=\"tech_articles\")"
   ]
  },
  {
   "cell_type": "code",
   "execution_count": 8,
   "id": "86795380",
   "metadata": {},
   "outputs": [
    {
     "data": {
      "text/plain": [
       "8"
      ]
     },
     "execution_count": 8,
     "metadata": {},
     "output_type": "execute_result"
    }
   ],
   "source": [
    "documents = [\n",
    "    \"\"\"\n",
    "    Artificial Intelligence and Machine Learning have revolutionized how we approach data analysis \n",
    "    and automation. Machine learning algorithms can identify patterns in large datasets that would \n",
    "    be impossible for humans to detect manually. Deep learning, a subset of machine learning, uses \n",
    "    neural networks with multiple layers to process complex data like images, text, and audio. \n",
    "    Popular frameworks like TensorFlow, PyTorch, and scikit-learn have made it easier for developers \n",
    "    to implement AI solutions. The applications range from recommendation systems and fraud detection \n",
    "    to autonomous vehicles and medical diagnosis.\n",
    "    \"\"\",\n",
    "    \n",
    "    \"\"\"\n",
    "    Cloud computing has transformed the technology landscape by providing scalable, on-demand access \n",
    "    to computing resources. Major cloud providers like Amazon Web Services (AWS), Microsoft Azure, \n",
    "    and Google Cloud Platform offer services ranging from simple storage to complex machine learning \n",
    "    platforms. The three main service models are Infrastructure as a Service (IaaS), Platform as a \n",
    "    Service (PaaS), and Software as a Service (SaaS). Benefits include cost efficiency, scalability, \n",
    "    reliability, and global accessibility. However, organizations must also consider security, \n",
    "    compliance, and vendor lock-in when adopting cloud solutions.\n",
    "    \"\"\",\n",
    "    \n",
    "    \"\"\"\n",
    "    Cybersecurity is becoming increasingly critical as our digital footprint expands. Common threats \n",
    "    include malware, phishing attacks, ransomware, and social engineering. Organizations implement \n",
    "    multiple layers of security including firewalls, intrusion detection systems, encryption, and \n",
    "    multi-factor authentication. The CIA triad - Confidentiality, Integrity, and Availability - \n",
    "    forms the foundation of information security principles. Regular security audits, employee \n",
    "    training, and incident response plans are essential components of a comprehensive cybersecurity \n",
    "    strategy. Zero-trust architecture is gaining popularity as a security model that assumes no \n",
    "    implicit trust within the network.\n",
    "    \"\"\",\n",
    "    \n",
    "    \"\"\"\n",
    "    Blockchain technology, originally developed for Bitcoin, has found applications beyond \n",
    "    cryptocurrency. A blockchain is a distributed ledger that maintains a continuously growing \n",
    "    list of records, called blocks, which are linked using cryptographic hashes. Key features \n",
    "    include decentralization, transparency, immutability, and consensus mechanisms. Applications \n",
    "    include supply chain tracking, digital identity verification, smart contracts, and \n",
    "    decentralized finance (DeFi). Popular blockchain platforms include Ethereum, Hyperledger \n",
    "    Fabric, and Binance Smart Chain. Challenges include scalability, energy consumption, and \n",
    "    regulatory uncertainty.\n",
    "    \"\"\",\n",
    "    \n",
    "    \"\"\"\n",
    "    The Internet of Things (IoT) refers to the network of physical devices embedded with sensors, \n",
    "    software, and connectivity that enables them to collect and exchange data. IoT devices range \n",
    "    from simple sensors to complex industrial machines. Applications include smart homes, wearable \n",
    "    devices, connected cars, industrial automation, and smart cities. Key technologies include \n",
    "    RFID, Wi-Fi, Bluetooth, cellular networks, and edge computing. Challenges include device \n",
    "    security, data privacy, interoperability, and managing the massive scale of connected devices. \n",
    "    Edge computing is becoming crucial for processing IoT data closer to its source.\n",
    "    \"\"\",\n",
    "    \n",
    "    \"\"\"\n",
    "    DevOps is a cultural and technical movement that emphasizes collaboration between development \n",
    "    and operations teams. It aims to shorten the development lifecycle while delivering features, \n",
    "    fixes, and updates frequently and reliably. Key practices include continuous integration (CI), \n",
    "    continuous deployment (CD), infrastructure as code, monitoring, and automated testing. Popular \n",
    "    tools include Docker for containerization, Kubernetes for orchestration, Jenkins for CI/CD, \n",
    "    and Terraform for infrastructure management. Benefits include faster time to market, improved \n",
    "    collaboration, higher quality software, and better system reliability.\n",
    "    \"\"\",\n",
    "    \n",
    "    \"\"\"\n",
    "    Quantum computing represents a fundamental shift in computational paradigms, leveraging quantum \n",
    "    mechanical phenomena like superposition and entanglement. Unlike classical bits that exist in \n",
    "    states of 0 or 1, quantum bits (qubits) can exist in multiple states simultaneously. This \n",
    "    enables quantum computers to perform certain calculations exponentially faster than classical \n",
    "    computers. Applications include cryptography, drug discovery, financial modeling, and \n",
    "    optimization problems. Companies like IBM, Google, and Microsoft are developing quantum \n",
    "    systems. Challenges include quantum error correction, maintaining quantum coherence, and \n",
    "    developing quantum algorithms.\n",
    "    \"\"\",\n",
    "    \n",
    "    \"\"\"\n",
    "    Data Science combines statistics, mathematics, programming, and domain expertise to extract \n",
    "    insights from data. The data science process typically involves data collection, cleaning, \n",
    "    exploration, modeling, and visualization. Python and R are popular programming languages, \n",
    "    with libraries like pandas, NumPy, matplotlib, and scikit-learn. Big data technologies like \n",
    "    Hadoop, Spark, and NoSQL databases handle large-scale data processing. Data scientists work \n",
    "    on problems like predictive analytics, customer segmentation, recommendation systems, and \n",
    "    business intelligence. The field requires strong analytical skills and the ability to \n",
    "    communicate findings to stakeholders.\n",
    "    \"\"\"\n",
    "]\n",
    "len(documents)"
   ]
  },
  {
   "cell_type": "code",
   "execution_count": 9,
   "id": "c0e8c7e0",
   "metadata": {},
   "outputs": [],
   "source": [
    "collection.add(ids=[\"id1\", \"id2\", \"id3\", \"id4\", \"id5\", \"id6\", \"id7\", \"id8\"],\n",
    "               documents=documents\n",
    "               )"
   ]
  },
  {
   "cell_type": "code",
   "execution_count": 10,
   "id": "3679a04e",
   "metadata": {},
   "outputs": [],
   "source": [
    "example_queries = [\n",
    "    \"What are the benefits of cloud computing?\",\n",
    "    \"How does machine learning work?\",\n",
    "    \"What are common cybersecurity threats?\",\n",
    "    \"Explain blockchain technology applications\",\n",
    "    \"What is DevOps and its key practices?\",\n",
    "    \"How do IoT devices communicate?\",\n",
    "    \"What makes quantum computing different?\",\n",
    "    \"What tools do data scientists use?\"\n",
    "]\n"
   ]
  },
  {
   "cell_type": "code",
   "execution_count": 11,
   "id": "c00225e3",
   "metadata": {},
   "outputs": [],
   "source": [
    "query = \"What are machine learning frameworks?\"\n",
    "results = collection.query(\n",
    "    query_texts=query,\n",
    "    n_results=2\n",
    ")"
   ]
  },
  {
   "cell_type": "code",
   "execution_count": 12,
   "id": "bb587485",
   "metadata": {},
   "outputs": [
    {
     "name": "stdout",
     "output_type": "stream",
     "text": [
      "['\\n    Artificial Intelligence and Machine Learning have revolutionized how we approach data analysis \\n    and automation. Machine learning algorithms can identify patterns in large datasets that would \\n    be impossible for humans to detect manually. Deep learning, a subset of machine learning, uses \\n    neural networks with multiple layers to process complex data like images, text, and audio. \\n    Popular frameworks like TensorFlow, PyTorch, and scikit-learn have made it easier for developers \\n    to implement AI solutions. The applications range from recommendation systems and fraud detection \\n    to autonomous vehicles and medical diagnosis.\\n    ', '\\n    Data Science combines statistics, mathematics, programming, and domain expertise to extract \\n    insights from data. The data science process typically involves data collection, cleaning, \\n    exploration, modeling, and visualization. Python and R are popular programming languages, \\n    with libraries like pandas, NumPy, matplotlib, and scikit-learn. Big data technologies like \\n    Hadoop, Spark, and NoSQL databases handle large-scale data processing. Data scientists work \\n    on problems like predictive analytics, customer segmentation, recommendation systems, and \\n    business intelligence. The field requires strong analytical skills and the ability to \\n    communicate findings to stakeholders.\\n    ']\n"
     ]
    }
   ],
   "source": [
    "print(results['documents'][0])"
   ]
  },
  {
   "cell_type": "code",
   "execution_count": 13,
   "id": "05ae298e",
   "metadata": {},
   "outputs": [],
   "source": [
    "retrieved_docs = results['documents'][0]\n",
    "\n",
    "context = \"\\n\\n\".join(retrieved_docs)"
   ]
  },
  {
   "cell_type": "code",
   "execution_count": 14,
   "id": "42a0215c",
   "metadata": {},
   "outputs": [
    {
     "name": "stdout",
     "output_type": "stream",
     "text": [
      "\n",
      "    Artificial Intelligence and Machine Learning have revolutionized how we approach data analysis \n",
      "    and automation. Machine learning algorithms can identify patterns in large datasets that would \n",
      "    be impossible for humans to detect manually. Deep learning, a subset of machine learning, uses \n",
      "    neural networks with multiple layers to process complex data like images, text, and audio. \n",
      "    Popular frameworks like TensorFlow, PyTorch, and scikit-learn have made it easier for developers \n",
      "    to implement AI solutions. The applications range from recommendation systems and fraud detection \n",
      "    to autonomous vehicles and medical diagnosis.\n",
      "    \n",
      "\n",
      "\n",
      "    Data Science combines statistics, mathematics, programming, and domain expertise to extract \n",
      "    insights from data. The data science process typically involves data collection, cleaning, \n",
      "    exploration, modeling, and visualization. Python and R are popular programming languages, \n",
      "    with libraries like pandas, NumPy, matplotlib, and scikit-learn. Big data technologies like \n",
      "    Hadoop, Spark, and NoSQL databases handle large-scale data processing. Data scientists work \n",
      "    on problems like predictive analytics, customer segmentation, recommendation systems, and \n",
      "    business intelligence. The field requires strong analytical skills and the ability to \n",
      "    communicate findings to stakeholders.\n",
      "    \n"
     ]
    }
   ],
   "source": [
    "print(context)"
   ]
  },
  {
   "cell_type": "code",
   "execution_count": 15,
   "id": "bf8fa1da",
   "metadata": {},
   "outputs": [
    {
     "name": "stdout",
     "output_type": "stream",
     "text": [
      "Use the following context to answer the question.\n",
      "\n",
      "Context:\n",
      "\n",
      "    Artificial Intelligence and Machine Learning have revolutionized how we approach data analysis \n",
      "    and automation. Machine learning algorithms can identify patterns in large datasets that would \n",
      "    be impossible for humans to detect manually. Deep learning, a subset of machine learning, uses \n",
      "    neural networks with multiple layers to process complex data like images, text, and audio. \n",
      "    Popular frameworks like TensorFlow, PyTorch, and scikit-learn have made it easier for developers \n",
      "    to implement AI solutions. The applications range from recommendation systems and fraud detection \n",
      "    to autonomous vehicles and medical diagnosis.\n",
      "    \n",
      "\n",
      "\n",
      "    Data Science combines statistics, mathematics, programming, and domain expertise to extract \n",
      "    insights from data. The data science process typically involves data collection, cleaning, \n",
      "    exploration, modeling, and visualization. Python and R are popular programming languages, \n",
      "    with libraries like pandas, NumPy, matplotlib, and scikit-learn. Big data technologies like \n",
      "    Hadoop, Spark, and NoSQL databases handle large-scale data processing. Data scientists work \n",
      "    on problems like predictive analytics, customer segmentation, recommendation systems, and \n",
      "    business intelligence. The field requires strong analytical skills and the ability to \n",
      "    communicate findings to stakeholders.\n",
      "    \n",
      "\n",
      "Question:\n",
      "What are machine learning frameworks?\n",
      "\n",
      "Answer the question using only the information from the context above.\n"
     ]
    }
   ],
   "source": [
    "# Formulate the prompt for the LLM\n",
    "prompt = f\"\"\"Use the following context to answer the question.\n",
    "\n",
    "Context:\n",
    "{context}\n",
    "\n",
    "Question:\n",
    "{query}\n",
    "\n",
    "Answer the question using only the information from the context above.\"\"\"\n",
    "print(prompt)"
   ]
  },
  {
   "cell_type": "code",
   "execution_count": 16,
   "id": "d8e788a1",
   "metadata": {},
   "outputs": [
    {
     "name": "stdout",
     "output_type": "stream",
     "text": [
      "Machine learning frameworks are tools like TensorFlow, PyTorch, and scikit-learn that have made it easier for developers to implement AI solutions.\n"
     ]
    }
   ],
   "source": [
    "client = genai.Client(api_key=GEMINI_API_KEY)\n",
    "\n",
    "response = client.models.generate_content(\n",
    "    model=\"gemini-2.5-flash\", contents=prompt\n",
    ")\n",
    "print(response.text)"
   ]
  },
  {
   "cell_type": "code",
   "execution_count": 17,
   "id": "3c00e077",
   "metadata": {},
   "outputs": [],
   "source": [
    "from chromadb.utils import embedding_functions\n",
    "from google.genai.types import EmbedContentConfig"
   ]
  },
  {
   "cell_type": "code",
   "execution_count": 18,
   "id": "7196db89",
   "metadata": {},
   "outputs": [
    {
     "name": "stdout",
     "output_type": "stream",
     "text": [
      "Generated Length 8 embeddings\n",
      "Dimensions of first embedding 3072\n"
     ]
    }
   ],
   "source": [
    "embed_model = \"gemini-embedding-001\"\n",
    "response = client.models.embed_content(\n",
    "    model=embed_model,\n",
    "    contents=documents,\n",
    "    config=EmbedContentConfig(taskType=\"RETRIEVAL_DOCUMENT\")\n",
    ")\n",
    "\n",
    "doc_embeddings = [emb.values for emb in response.embeddings]\n",
    "\n",
    "print(f\"Generated Length {len(doc_embeddings)} embeddings\")\n",
    "print(f\"Dimensions of first embedding {len(doc_embeddings[0])}\")"
   ]
  },
  {
   "cell_type": "code",
   "execution_count": null,
   "id": "5bd32abf",
   "metadata": {},
   "outputs": [],
   "source": [
    "collection = chroma_client.create_collection(name=\"knowledge_base\")\n",
    "\n",
    "collection.add(documents=documents,\n",
    "               embeddings=doc_embeddings,\n",
    "               ids=[\"doc1\", \"doc2\", \"doc3\", \"doc4\", \"doc5\", \"doc6\", \"doc7\", \"doc8\"]\n",
    "               )\n",
    "\n",
    "print(\"Document in Collection\", collection.count())"
   ]
  },
  {
   "cell_type": "code",
   "execution_count": null,
   "id": "05ac83b9",
   "metadata": {},
   "outputs": [
    {
     "data": {
      "text/plain": [
       "{'ids': [['doc2', 'doc6']],\n",
       " 'embeddings': None,\n",
       " 'documents': [['\\n    Cloud computing has transformed the technology landscape by providing scalable, on-demand access \\n    to computing resources. Major cloud providers like Amazon Web Services (AWS), Microsoft Azure, \\n    and Google Cloud Platform offer services ranging from simple storage to complex machine learning \\n    platforms. The three main service models are Infrastructure as a Service (IaaS), Platform as a \\n    Service (PaaS), and Software as a Service (SaaS). Benefits include cost efficiency, scalability, \\n    reliability, and global accessibility. However, organizations must also consider security, \\n    compliance, and vendor lock-in when adopting cloud solutions.\\n    ',\n",
       "   '\\n    DevOps is a cultural and technical movement that emphasizes collaboration between development \\n    and operations teams. It aims to shorten the development lifecycle while delivering features, \\n    fixes, and updates frequently and reliably. Key practices include continuous integration (CI), \\n    continuous deployment (CD), infrastructure as code, monitoring, and automated testing. Popular \\n    tools include Docker for containerization, Kubernetes for orchestration, Jenkins for CI/CD, \\n    and Terraform for infrastructure management. Benefits include faster time to market, improved \\n    collaboration, higher quality software, and better system reliability.\\n    ']],\n",
       " 'uris': None,\n",
       " 'included': ['documents', 'distances'],\n",
       " 'data': None,\n",
       " 'metadatas': None,\n",
       " 'distances': [[0.5090041160583496, 0.7420028448104858]]}"
      ]
     },
     "execution_count": 27,
     "metadata": {},
     "output_type": "execute_result"
    }
   ],
   "source": [
    "query1 = \"What are the benefits of cloud computing?\"\n",
    "\n",
    "query_response = client.models.embed_content(\n",
    "    model=embed_model,\n",
    "    contents=[query],\n",
    "    config=EmbedContentConfig(taskType=\"RETRIEVAL_QUERY\")\n",
    ")\n",
    "\n",
    "query_vector = query_response.embeddings[0].values\n",
    "\n",
    "result = collection.query(query_embeddings=[query_vector],\n",
    "                          n_results=2,\n",
    "                          include=[\"documents\", \"distances\"])\n",
    "\n",
    "result"
   ]
  },
  {
   "cell_type": "code",
   "execution_count": null,
   "id": "68ec0871",
   "metadata": {},
   "outputs": [
    {
     "name": "stdout",
     "output_type": "stream",
     "text": [
      "['\\n    Cloud computing has transformed the technology landscape by providing scalable, on-demand access \\n    to computing resources. Major cloud providers like Amazon Web Services (AWS), Microsoft Azure, \\n    and Google Cloud Platform offer services ranging from simple storage to complex machine learning \\n    platforms. The three main service models are Infrastructure as a Service (IaaS), Platform as a \\n    Service (PaaS), and Software as a Service (SaaS). Benefits include cost efficiency, scalability, \\n    reliability, and global accessibility. However, organizations must also consider security, \\n    compliance, and vendor lock-in when adopting cloud solutions.\\n    ', '\\n    DevOps is a cultural and technical movement that emphasizes collaboration between development \\n    and operations teams. It aims to shorten the development lifecycle while delivering features, \\n    fixes, and updates frequently and reliably. Key practices include continuous integration (CI), \\n    continuous deployment (CD), infrastructure as code, monitoring, and automated testing. Popular \\n    tools include Docker for containerization, Kubernetes for orchestration, Jenkins for CI/CD, \\n    and Terraform for infrastructure management. Benefits include faster time to market, improved \\n    collaboration, higher quality software, and better system reliability.\\n    ']\n"
     ]
    }
   ],
   "source": [
    "retreived_docs = result['documents'][0]\n",
    "print(retreived_docs)"
   ]
  },
  {
   "cell_type": "code",
   "execution_count": null,
   "id": "87a20797",
   "metadata": {},
   "outputs": [],
   "source": [
    "context = \"\\n\\n\".join(retreived_docs)"
   ]
  },
  {
   "cell_type": "code",
   "execution_count": null,
   "id": "2d4e4202",
   "metadata": {},
   "outputs": [
    {
     "name": "stdout",
     "output_type": "stream",
     "text": [
      "\n",
      "    Cloud computing has transformed the technology landscape by providing scalable, on-demand access \n",
      "    to computing resources. Major cloud providers like Amazon Web Services (AWS), Microsoft Azure, \n",
      "    and Google Cloud Platform offer services ranging from simple storage to complex machine learning \n",
      "    platforms. The three main service models are Infrastructure as a Service (IaaS), Platform as a \n",
      "    Service (PaaS), and Software as a Service (SaaS). Benefits include cost efficiency, scalability, \n",
      "    reliability, and global accessibility. However, organizations must also consider security, \n",
      "    compliance, and vendor lock-in when adopting cloud solutions.\n",
      "    \n",
      "\n",
      "\n",
      "    DevOps is a cultural and technical movement that emphasizes collaboration between development \n",
      "    and operations teams. It aims to shorten the development lifecycle while delivering features, \n",
      "    fixes, and updates frequently and reliably. Key practices include continuous integration (CI), \n",
      "    continuous deployment (CD), infrastructure as code, monitoring, and automated testing. Popular \n",
      "    tools include Docker for containerization, Kubernetes for orchestration, Jenkins for CI/CD, \n",
      "    and Terraform for infrastructure management. Benefits include faster time to market, improved \n",
      "    collaboration, higher quality software, and better system reliability.\n",
      "    \n"
     ]
    }
   ],
   "source": [
    "print(context)"
   ]
  },
  {
   "cell_type": "code",
   "execution_count": null,
   "id": "c7228fde",
   "metadata": {},
   "outputs": [
    {
     "name": "stdout",
     "output_type": "stream",
     "text": [
      "Use the following context to answer the question.\n",
      "\n",
      "Context:\n",
      "\n",
      "    Cloud computing has transformed the technology landscape by providing scalable, on-demand access \n",
      "    to computing resources. Major cloud providers like Amazon Web Services (AWS), Microsoft Azure, \n",
      "    and Google Cloud Platform offer services ranging from simple storage to complex machine learning \n",
      "    platforms. The three main service models are Infrastructure as a Service (IaaS), Platform as a \n",
      "    Service (PaaS), and Software as a Service (SaaS). Benefits include cost efficiency, scalability, \n",
      "    reliability, and global accessibility. However, organizations must also consider security, \n",
      "    compliance, and vendor lock-in when adopting cloud solutions.\n",
      "    \n",
      "\n",
      "\n",
      "    DevOps is a cultural and technical movement that emphasizes collaboration between development \n",
      "    and operations teams. It aims to shorten the development lifecycle while delivering features, \n",
      "    fixes, and updates frequently and reliably. Key practices include continuous integration (CI), \n",
      "    continuous deployment (CD), infrastructure as code, monitoring, and automated testing. Popular \n",
      "    tools include Docker for containerization, Kubernetes for orchestration, Jenkins for CI/CD, \n",
      "    and Terraform for infrastructure management. Benefits include faster time to market, improved \n",
      "    collaboration, higher quality software, and better system reliability.\n",
      "    \n",
      "\n",
      "Question:\n",
      "What are the benefits of cloud computing?\n",
      "\n",
      "Answer the question using only the information from the context above.\n"
     ]
    }
   ],
   "source": [
    "prompt = f\"\"\"Use the following context to answer the question.\n",
    "\n",
    "Context:\n",
    "{context}\n",
    "\n",
    "Question:\n",
    "{query}\n",
    "\n",
    "Answer the question using only the information from the context above.\"\"\"\n",
    "print(prompt)"
   ]
  },
  {
   "cell_type": "code",
   "execution_count": null,
   "id": "400ecf00",
   "metadata": {},
   "outputs": [
    {
     "name": "stdout",
     "output_type": "stream",
     "text": [
      "The benefits of cloud computing include cost efficiency, scalability, reliability, and global accessibility.\n"
     ]
    }
   ],
   "source": [
    "client = genai.Client(api_key=GEMINI_API_KEY)\n",
    "\n",
    "response = client.models.generate_content(\n",
    "    model=\"gemini-2.5-flash\", contents=prompt\n",
    ")\n",
    "print(response.text)"
   ]
  },
  {
   "cell_type": "markdown",
   "id": "06908ef2",
   "metadata": {
    "vscode": {
     "languageId": "markdown"
    }
   },
   "source": [
    "# Exercise: Build a RAG-Based Resume Chatbot\n",
    "\n",
    "In this exercise, you will create a simple Retrieval-Augmented Generation (RAG) system that allows a student to chat with their own resume or profile. You will use the same tools and code structure as demonstrated in this notebook, adapting it to work with your own resume data.\n",
    "\n",
    "---\n",
    "\n",
    "## Objective\n",
    "\n",
    "Build a chatbot that can answer questions about your resume or profile by retrieving relevant information and generating responses using a language model.\n",
    "\n",
    "---\n",
    "\n",
    "## Instructions\n",
    "\n",
    "### 1. Prepare Your Resume/Profile Data\n",
    "\n",
    "- Write your resume or profile as a list of text sections (e.g., Education, Experience, Skills, Projects).\n",
    "- Example:\n",
    "    ```python\n",
    "    resume_sections = [\n",
    "        \"Education: B.Sc. in Computer Science from XYZ University, 2021.\",\n",
    "        \"Experience: Software Engineering Intern at ABC Corp, Summer 2020.\",\n",
    "        \"Skills: Python, Machine Learning, Data Analysis, SQL.\",\n",
    "        \"Projects: Built a personal finance tracker app using Flask and SQLite.\"\n",
    "    ]\n",
    "    ```\n",
    "\n",
    "### 2. Initialize ChromaDB and Create a Collection\n",
    "\n",
    "- Use the existing ChromaDB client to create a new collection for your resume.\n",
    "    ```python\n",
    "    resume_collection = chroma_client.create_collection(name=\"student_resume\")\n",
    "    ```\n",
    "\n",
    "### 3. Generate Embeddings for Each Section\n",
    "\n",
    "- Use the Gemini embedding model to generate embeddings for each section.\n",
    "    ```python\n",
    "    resume_embeddings_response = client.models.embed_content(\n",
    "        model=embed_model,\n",
    "        contents=resume_sections,\n",
    "        config=EmbedContentConfig(taskType=\"RETRIEVAL_DOCUMENT\")\n",
    "    )\n",
    "    resume_embeddings = [emb.values for emb in resume_embeddings_response.embeddings]\n",
    "    ```\n",
    "\n",
    "### 4. Add Sections and Embeddings to the Collection\n",
    "\n",
    "- Add your resume sections and their embeddings to the ChromaDB collection.\n",
    "    ```python\n",
    "    resume_collection.add(\n",
    "        documents=resume_sections,\n",
    "        embeddings=resume_embeddings,\n",
    "        ids=[f\"section{i+1}\" for i in range(len(resume_sections))]\n",
    "    )\n",
    "    ```\n",
    "\n",
    "### 5. Ask Questions About Your Resume\n",
    "\n",
    "- Write a question you want to ask about your resume.\n",
    "    ```python\n",
    "    question = \"What projects have I worked on?\"\n",
    "    ```\n",
    "\n",
    "- Generate an embedding for your question.\n",
    "    ```python\n",
    "    question_embedding_response = client.models.embed_content(\n",
    "        model=embed_model,\n",
    "        contents=[question],\n",
    "        config=EmbedContentConfig(taskType=\"RETRIEVAL_QUERY\")\n",
    "    )\n",
    "    question_embedding = question_embedding_response.embeddings[0].values\n",
    "    ```\n",
    "\n",
    "- Query the collection to retrieve relevant sections.\n",
    "    ```python\n",
    "    result = resume_collection.query(\n",
    "        query_embeddings=[question_embedding],\n",
    "        n_results=2,\n",
    "        include=[\"documents\"]\n",
    "    )\n",
    "    retrieved_sections = result['documents'][0]\n",
    "    ```\n",
    "\n",
    "### 6. Construct a Prompt and Get an Answer\n",
    "\n",
    "- Build a prompt using the retrieved sections and your question.\n",
    "    ```python\n",
    "    context = \"\\n\\n\".join(retrieved_sections)\n",
    "    prompt = f\"\"\"Use the following context to answer the question.\n",
    "\n",
    "    Context:\n",
    "    {context}\n",
    "\n",
    "    Question:\n",
    "    {question}\n",
    "\n",
    "    Answer the question using only the information from the context above.\"\"\"\n",
    "    ```\n",
    "\n",
    "- Generate an answer using the Gemini model.\n",
    "    ```python\n",
    "    response = client.models.generate_content(\n",
    "        model=\"gemini-2.5-flash\", contents=prompt\n",
    "    )\n",
    "    print(response.text)\n",
    "    ```\n",
    "\n",
    "---\n",
    "\n",
    "## Tips\n",
    "\n",
    "- You can add more sections or details to your resume for richer responses.\n",
    "- Try asking different types of questions (e.g., about skills, education, experience).\n",
    "- Experiment with the number of results (`n_results`) to see how it affects the chatbot's answers.\n",
    "\n",
    "---\n",
    "\n",
    "## Goal\n",
    "\n",
    "By completing this exercise, you will learn how to build a personalized RAG-based chatbot that can answer questions about your own resume or profile using retrieval and generation techniques!"
   ]
  },
  {
   "cell_type": "code",
   "execution_count": null,
   "id": "6d42c92a",
   "metadata": {},
   "outputs": [],
   "source": []
  },
  {
   "cell_type": "code",
   "execution_count": null,
   "id": "26030667",
   "metadata": {},
   "outputs": [],
   "source": []
  }
 ],
 "metadata": {
  "kernelspec": {
   "display_name": "RAG_PRACTICE",
   "language": "python",
   "name": "python3"
  },
  "language_info": {
   "codemirror_mode": {
    "name": "ipython",
    "version": 3
   },
   "file_extension": ".py",
   "mimetype": "text/x-python",
   "name": "python",
   "nbconvert_exporter": "python",
   "pygments_lexer": "ipython3",
   "version": "3.12.11"
  }
 },
 "nbformat": 4,
 "nbformat_minor": 5
}
