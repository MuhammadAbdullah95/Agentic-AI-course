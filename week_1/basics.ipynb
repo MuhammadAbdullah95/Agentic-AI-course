{
  "nbformat": 4,
  "nbformat_minor": 0,
  "metadata": {
    "colab": {
      "provenance": [],
      "authorship_tag": "ABX9TyOAMpwQ9xus8n193s/U4mXN",
      "include_colab_link": true
    },
    "kernelspec": {
      "name": "python3",
      "display_name": "Python 3"
    },
    "language_info": {
      "name": "python"
    }
  },
  "cells": [
    {
      "cell_type": "markdown",
      "metadata": {
        "id": "view-in-github",
        "colab_type": "text"
      },
      "source": [
        "<a href=\"https://colab.research.google.com/github/MuhammadAbdullah95/Agentic-AI-course/blob/master/week_1/basics.ipynb\" target=\"_parent\"><img src=\"https://colab.research.google.com/assets/colab-badge.svg\" alt=\"Open In Colab\"/></a>"
      ]
    },
    {
      "cell_type": "markdown",
      "source": [
        "# Week 1: Python Basics and Environment Setup\n",
        "\n",
        "Welcome to Week 1 of the Agentic AI course. In this notebook, we will walk through foundational Python concepts needed for developing intelligent agents.\n",
        "\n",
        "# 🔍 Introduction: Why Python and What is a Programming Language?\n",
        "\n",
        "## What is a Programming Language?\n",
        "A **programming language** is a formal set of instructions that allows humans to communicate with computers and instruct them to perform specific tasks. It is the bridge between human logic and machine execution.\n",
        "\n",
        "## Why Python?\n",
        "Python is one of the most popular and beginner-friendly programming languages in the world. It is known for:\n",
        "- Simple and readable syntax\n",
        "- Large community and support\n",
        "- Versatility: used in web development, AI/ML, data science, scripting, and automation\n",
        "- Strong libraries and frameworks (e.g., NumPy, Pandas, Flask, TensorFlow)\n",
        "\n",
        "Python is especially powerful in AI and agentic systems due to its ability to integrate with cutting-edge tools and frameworks easily."
      ],
      "metadata": {
        "id": "hEtiANHSDW1R"
      }
    },
    {
      "cell_type": "markdown",
      "source": [
        "# 🧾 Print Statements and String Handling\n",
        "\n",
        "## The `print()` Function\n",
        "Used to display output on the screen.\n",
        "\n",
        "\n"
      ],
      "metadata": {
        "id": "qpWv1b8JFNXl"
      }
    },
    {
      "cell_type": "code",
      "source": [
        "print(\"Hello, World\")"
      ],
      "metadata": {
        "colab": {
          "base_uri": "https://localhost:8080/"
        },
        "id": "Opw75n1RFaul",
        "outputId": "79868161-89a8-4a55-cb4d-2c78c2eb2f07"
      },
      "execution_count": 64,
      "outputs": [
        {
          "output_type": "stream",
          "name": "stdout",
          "text": [
            "Hello, World\n"
          ]
        }
      ]
    },
    {
      "cell_type": "markdown",
      "source": [
        "## Strings in Python\n",
        "Python allows strings to be defined in **three ways**:"
      ],
      "metadata": {
        "id": "E-UVnZwJFrAu"
      }
    },
    {
      "cell_type": "code",
      "source": [
        "single_quotes = 'Hello'\n",
        "double_quotes = \"World\"\n",
        "triple_quotes = '''Multi-line string example'''\n",
        "\n",
        "print(single_quotes)\n",
        "print(double_quotes)\n",
        "print(triple_quotes)"
      ],
      "metadata": {
        "id": "bLwSPnv-FiRS"
      },
      "execution_count": null,
      "outputs": []
    },
    {
      "cell_type": "markdown",
      "source": [
        "\n",
        "\n",
        "## Comments in Python\n",
        "Python supports two types of comments:\n",
        "- **Single-line comments** using `#`\n",
        "- **Multi-line (block) comments** using triple quotes `'''` or `\"\"\"`\n"
      ],
      "metadata": {
        "id": "__7Fs6AQFdye"
      }
    },
    {
      "cell_type": "code",
      "source": [
        "# This is a single-line comment\n",
        "\n",
        "'''\n",
        "This is a\n",
        "multi-line comment\n",
        "'''"
      ],
      "metadata": {
        "colab": {
          "base_uri": "https://localhost:8080/",
          "height": 35
        },
        "id": "bdjkS8n9F7de",
        "outputId": "683f4fd3-2888-4c2b-dfc3-725b313a2879"
      },
      "execution_count": 65,
      "outputs": [
        {
          "output_type": "execute_result",
          "data": {
            "text/plain": [
              "'\\nThis is a\\nmulti-line comment\\n'"
            ],
            "application/vnd.google.colaboratory.intrinsic+json": {
              "type": "string"
            }
          },
          "metadata": {},
          "execution_count": 65
        }
      ]
    },
    {
      "cell_type": "markdown",
      "source": [
        "## Variables and Data Types\n"
      ],
      "metadata": {
        "id": "8tuyCu7PDsDC"
      }
    },
    {
      "cell_type": "code",
      "source": [
        "# Integer\n",
        "x = 10\n",
        "\n",
        "# Float\n",
        "y = 3.14\n",
        "\n",
        "# String\n",
        "name = \"Agent\"\n",
        "\n",
        "# Boolean\n",
        "is_ready = True\n",
        "\n",
        "print(type(x), type(y), type(name), type(is_ready))\n"
      ],
      "metadata": {
        "colab": {
          "base_uri": "https://localhost:8080/"
        },
        "id": "31mXzWeQDVoY",
        "outputId": "dbf5e87a-5bc0-45a3-fb22-a8d080637621"
      },
      "execution_count": 60,
      "outputs": [
        {
          "output_type": "stream",
          "name": "stdout",
          "text": [
            "<class 'int'> <class 'float'> <class 'str'> <class 'bool'>\n"
          ]
        }
      ]
    },
    {
      "cell_type": "markdown",
      "source": [
        "## Type Conversion\n"
      ],
      "metadata": {
        "id": "XolNKq_7DyXS"
      }
    },
    {
      "cell_type": "code",
      "execution_count": 61,
      "metadata": {
        "colab": {
          "base_uri": "https://localhost:8080/"
        },
        "id": "MiRlgdcHmAye",
        "outputId": "8ba79bf5-fec1-4cbf-b9c6-d52afacacf33"
      },
      "outputs": [
        {
          "output_type": "stream",
          "name": "stdout",
          "text": [
            "4\n",
            "100\n"
          ]
        }
      ],
      "source": [
        "# Convert string to int\n",
        "num_str = \"42\"\n",
        "num_int = int(num_str)\n",
        "\n",
        "# Convert float to int\n",
        "print(int(4.9))  # Output: 4\n",
        "\n",
        "# Convert int to string\n",
        "print(str(100))\n"
      ]
    },
    {
      "cell_type": "markdown",
      "source": [
        "## Input & Output\n"
      ],
      "metadata": {
        "id": "YdTjlAHYC2Tc"
      }
    },
    {
      "cell_type": "code",
      "source": [
        "user_name = input(\"Enter your name: \")\n",
        "print(\"Welcome,\", user_name)\n"
      ],
      "metadata": {
        "colab": {
          "base_uri": "https://localhost:8080/"
        },
        "id": "b0ENJXm2mTEF",
        "outputId": "65ad6264-e538-475b-d485-80d45402f5dd"
      },
      "execution_count": 62,
      "outputs": [
        {
          "output_type": "stream",
          "name": "stdout",
          "text": [
            "Enter your name: hi\n",
            "Welcome, hi\n"
          ]
        }
      ]
    },
    {
      "cell_type": "markdown",
      "source": [
        "## Operators\n"
      ],
      "metadata": {
        "id": "V6YcROaGEH87"
      }
    },
    {
      "cell_type": "code",
      "source": [
        "a = 10\n",
        "b = 3\n",
        "\n",
        "print(\"Add:\", a + b)\n",
        "print(\"Subtract:\", a - b)\n",
        "print(\"Multiply:\", a * b)\n",
        "print(\"Divide:\", a / b)\n",
        "print(\"Modulo:\", a % b)\n",
        "print(\"Compare:\", a > b)\n"
      ],
      "metadata": {
        "colab": {
          "base_uri": "https://localhost:8080/"
        },
        "id": "Fm30YTshpk5p",
        "outputId": "6c9c47b6-e721-4216-84c0-2b0a3fdcf144"
      },
      "execution_count": 63,
      "outputs": [
        {
          "output_type": "stream",
          "name": "stdout",
          "text": [
            "Add: 13\n",
            "Subtract: 7\n",
            "Multiply: 30\n",
            "Divide: 3.3333333333333335\n",
            "Modulo: 1\n",
            "Compare: True\n"
          ]
        }
      ]
    },
    {
      "cell_type": "code",
      "source": [],
      "metadata": {
        "id": "OR7ZShSz6QZT"
      },
      "execution_count": null,
      "outputs": []
    }
  ]
}